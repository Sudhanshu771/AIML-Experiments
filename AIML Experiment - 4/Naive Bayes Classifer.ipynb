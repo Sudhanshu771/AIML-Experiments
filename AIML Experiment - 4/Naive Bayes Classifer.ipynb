{
 "cells": [
  {
   "cell_type": "code",
   "execution_count": 1,
   "metadata": {},
   "outputs": [],
   "source": [
    "import pandas as pd\n",
    "import numpy as np\n"
   ]
  },
  {
   "cell_type": "code",
   "execution_count": 2,
   "metadata": {},
   "outputs": [],
   "source": [
    "df = pd.read_csv('./exp4.csv')"
   ]
  },
  {
   "cell_type": "code",
   "execution_count": 3,
   "metadata": {},
   "outputs": [
    {
     "data": {
      "text/html": [
       "<div>\n",
       "<style scoped>\n",
       "    .dataframe tbody tr th:only-of-type {\n",
       "        vertical-align: middle;\n",
       "    }\n",
       "\n",
       "    .dataframe tbody tr th {\n",
       "        vertical-align: top;\n",
       "    }\n",
       "\n",
       "    .dataframe thead th {\n",
       "        text-align: right;\n",
       "    }\n",
       "</style>\n",
       "<table border=\"1\" class=\"dataframe\">\n",
       "  <thead>\n",
       "    <tr style=\"text-align: right;\">\n",
       "      <th></th>\n",
       "      <th>Name</th>\n",
       "      <th>Gender</th>\n",
       "      <th>Height(in m)</th>\n",
       "      <th>Output</th>\n",
       "    </tr>\n",
       "  </thead>\n",
       "  <tbody>\n",
       "    <tr>\n",
       "      <th>0</th>\n",
       "      <td>Kristina</td>\n",
       "      <td>F</td>\n",
       "      <td>1.60</td>\n",
       "      <td>Short</td>\n",
       "    </tr>\n",
       "    <tr>\n",
       "      <th>1</th>\n",
       "      <td>Jim</td>\n",
       "      <td>M</td>\n",
       "      <td>2.00</td>\n",
       "      <td>Tall</td>\n",
       "    </tr>\n",
       "    <tr>\n",
       "      <th>2</th>\n",
       "      <td>Maggie</td>\n",
       "      <td>F</td>\n",
       "      <td>1.90</td>\n",
       "      <td>Medium</td>\n",
       "    </tr>\n",
       "    <tr>\n",
       "      <th>3</th>\n",
       "      <td>Martha</td>\n",
       "      <td>F</td>\n",
       "      <td>1.88</td>\n",
       "      <td>Medium</td>\n",
       "    </tr>\n",
       "    <tr>\n",
       "      <th>4</th>\n",
       "      <td>Stephanie</td>\n",
       "      <td>F</td>\n",
       "      <td>1.70</td>\n",
       "      <td>Short</td>\n",
       "    </tr>\n",
       "    <tr>\n",
       "      <th>5</th>\n",
       "      <td>Bob</td>\n",
       "      <td>M</td>\n",
       "      <td>1.85</td>\n",
       "      <td>Medium</td>\n",
       "    </tr>\n",
       "    <tr>\n",
       "      <th>6</th>\n",
       "      <td>Kathy</td>\n",
       "      <td>F</td>\n",
       "      <td>1.60</td>\n",
       "      <td>Short</td>\n",
       "    </tr>\n",
       "    <tr>\n",
       "      <th>7</th>\n",
       "      <td>Dave</td>\n",
       "      <td>M</td>\n",
       "      <td>1.70</td>\n",
       "      <td>Short</td>\n",
       "    </tr>\n",
       "    <tr>\n",
       "      <th>8</th>\n",
       "      <td>Worth</td>\n",
       "      <td>M</td>\n",
       "      <td>2.20</td>\n",
       "      <td>Tall</td>\n",
       "    </tr>\n",
       "    <tr>\n",
       "      <th>9</th>\n",
       "      <td>Steven</td>\n",
       "      <td>M</td>\n",
       "      <td>2.10</td>\n",
       "      <td>Tall</td>\n",
       "    </tr>\n",
       "    <tr>\n",
       "      <th>10</th>\n",
       "      <td>Debbie</td>\n",
       "      <td>F</td>\n",
       "      <td>1.80</td>\n",
       "      <td>Medium</td>\n",
       "    </tr>\n",
       "    <tr>\n",
       "      <th>11</th>\n",
       "      <td>Todd</td>\n",
       "      <td>M</td>\n",
       "      <td>1.95</td>\n",
       "      <td>Medium</td>\n",
       "    </tr>\n",
       "    <tr>\n",
       "      <th>12</th>\n",
       "      <td>Kim</td>\n",
       "      <td>F</td>\n",
       "      <td>1.90</td>\n",
       "      <td>Medium</td>\n",
       "    </tr>\n",
       "    <tr>\n",
       "      <th>13</th>\n",
       "      <td>Amy</td>\n",
       "      <td>F</td>\n",
       "      <td>1.80</td>\n",
       "      <td>Medium</td>\n",
       "    </tr>\n",
       "    <tr>\n",
       "      <th>14</th>\n",
       "      <td>Wynette</td>\n",
       "      <td>F</td>\n",
       "      <td>1.75</td>\n",
       "      <td>Medium</td>\n",
       "    </tr>\n",
       "    <tr>\n",
       "      <th>15</th>\n",
       "      <td>Walter</td>\n",
       "      <td>M</td>\n",
       "      <td>1.65</td>\n",
       "      <td>Short</td>\n",
       "    </tr>\n",
       "    <tr>\n",
       "      <th>16</th>\n",
       "      <td>Corey</td>\n",
       "      <td>M</td>\n",
       "      <td>1.92</td>\n",
       "      <td>Medium</td>\n",
       "    </tr>\n",
       "    <tr>\n",
       "      <th>17</th>\n",
       "      <td>Natasha</td>\n",
       "      <td>F</td>\n",
       "      <td>1.50</td>\n",
       "      <td>Short</td>\n",
       "    </tr>\n",
       "    <tr>\n",
       "      <th>18</th>\n",
       "      <td>Sudhanshu</td>\n",
       "      <td>M</td>\n",
       "      <td>1.82</td>\n",
       "      <td>Medium</td>\n",
       "    </tr>\n",
       "    <tr>\n",
       "      <th>19</th>\n",
       "      <td>Pratik</td>\n",
       "      <td>M</td>\n",
       "      <td>1.68</td>\n",
       "      <td>Short</td>\n",
       "    </tr>\n",
       "  </tbody>\n",
       "</table>\n",
       "</div>"
      ],
      "text/plain": [
       "         Name Gender  Height(in m)   Output\n",
       "0    Kristina      F          1.60    Short\n",
       "1         Jim      M          2.00     Tall\n",
       "2      Maggie      F          1.90   Medium\n",
       "3      Martha      F          1.88   Medium\n",
       "4   Stephanie      F          1.70    Short\n",
       "5         Bob      M          1.85  Medium \n",
       "6       Kathy      F          1.60    Short\n",
       "7        Dave      M          1.70    Short\n",
       "8       Worth      M          2.20     Tall\n",
       "9      Steven      M          2.10     Tall\n",
       "10     Debbie      F          1.80   Medium\n",
       "11       Todd      M          1.95   Medium\n",
       "12        Kim      F          1.90   Medium\n",
       "13        Amy      F          1.80   Medium\n",
       "14    Wynette      F          1.75   Medium\n",
       "15     Walter      M          1.65    Short\n",
       "16      Corey      M          1.92   Medium\n",
       "17    Natasha      F          1.50    Short\n",
       "18  Sudhanshu      M          1.82   Medium\n",
       "19     Pratik      M          1.68    Short"
      ]
     },
     "execution_count": 3,
     "metadata": {},
     "output_type": "execute_result"
    }
   ],
   "source": [
    "df.head(20)\n"
   ]
  },
  {
   "cell_type": "code",
   "execution_count": 4,
   "metadata": {},
   "outputs": [],
   "source": [
    "def dispDiv(num, den, p):\n",
    " return (str(num)+\"/\"+str(den)+\" = \"+str(p))\n",
    "\n",
    "total = df.shape[0]\n",
    "\n",
    "total_short = df['Output'].value_counts()['Short']\n",
    "\n",
    "total_medium = df['Output'].value_counts()['Medium']\n",
    "\n",
    "total_tall = df['Output'].value_counts()['Tall']\n",
    "\n",
    "\n",
    "# Prior Probability\n",
    "p_short = total_short/total\n",
    "p_medium = total_medium/total\n",
    "p_tall = total_tall/total\n"
   ]
  },
  {
   "cell_type": "code",
   "execution_count": 5,
   "metadata": {},
   "outputs": [
    {
     "name": "stdout",
     "output_type": "stream",
     "text": [
      "P(M|Short) =  3/7 = 0.42857142857142855\n",
      "P(M|Medium) =  3/9 = 0.3333333333333333\n",
      "P(M|Tall) =  3/3 = 1.0\n",
      "P(F|Short) =  4/7 = 0.5714285714285714\n",
      "P(F|Medium) =  6/9 = 0.6666666666666666\n",
      "P(F|Tall) =  0/3 = 0.0\n"
     ]
    }
   ],
   "source": [
    "def conditional_prob(attribute, att_value, output):\n",
    " cp = df.apply(lambda x: True if (x[attribute]==att_value and x['Output']==output) else False, axis=1)\n",
    " cp = len(cp[cp == True])\n",
    "# print(cp)\n",
    " return cp\n",
    " \n",
    "total_m = df['Gender'].value_counts()['M']\n",
    "total_f = df['Gender'].value_counts()['F']\n",
    "m_short = conditional_prob(\"Gender\",\"M\", \"Short\")\n",
    "m_medium = conditional_prob(\"Gender\",\"M\",\"Medium\")\n",
    "m_tall = conditional_prob(\"Gender\",\"M\",\"Tall\")\n",
    "f_short = conditional_prob(\"Gender\",\"F\",\"Short\")\n",
    "f_medium = conditional_prob(\"Gender\",\"F\",\"Medium\")\n",
    "f_tall = conditional_prob(\"Gender\",\"F\",\"Tall\")\n",
    "p_m_short = m_short/total_short\n",
    "p_m_medium = m_medium/total_medium\n",
    "p_m_tall = m_tall/total_tall\n",
    "p_f_short = f_short/total_short\n",
    "p_f_medium = f_medium/total_medium\n",
    "p_f_tall = f_tall/total_tall\n",
    "print(\"P(M|Short) = \",dispDiv(m_short, total_short, p_m_short))\n",
    "print(\"P(M|Medium) = \",dispDiv(m_medium, total_medium, p_m_medium))\n",
    "print(\"P(M|Tall) = \",dispDiv(m_tall, total_tall, p_m_tall))\n",
    "print(\"P(F|Short) = \",dispDiv(f_short, total_short, p_f_short))\n",
    "print(\"P(F|Medium) = \",dispDiv(f_medium, total_medium, p_f_medium))\n",
    "print(\"P(F|Tall) = \",dispDiv(f_tall, total_tall, p_f_tall))"
   ]
  },
  {
   "cell_type": "code",
   "execution_count": 6,
   "metadata": {},
   "outputs": [
    {
     "name": "stdout",
     "output_type": "stream",
     "text": [
      "Mean ( Short ):  1.6328571428571428 ,\n",
      " StdDeviation ( Short ):  0.07227592630889983 \tArray-  [1.6  1.7  1.6  1.7  1.65 1.5  1.68]\n",
      "Mean ( Medium ):  1.8577777777777778 ,\n",
      " StdDeviation ( Medium ):  0.0672268134336623 \tArray-  [1.9  1.88 1.8  1.95 1.9  1.8  1.75 1.92 1.82]\n",
      "Mean ( Tall ):  2.1 ,\n",
      " StdDeviation ( Tall ):  0.10000000000000009 \tArray-  [2.  2.2 2.1]\n"
     ]
    }
   ],
   "source": [
    "#returns mean and std deviation\n",
    "def get_mean(output, column):\n",
    " mean_arr = df.loc[df['Output']==output]\n",
    " mean_arr = mean_arr[column].to_numpy()\n",
    " print(\"Mean (\",output,\"): \",np.mean(mean_arr),\",\\n StdDeviation (\",output,\"): \",np.std(mean_arr, ddof=1), \"\\tArray- \",mean_arr)\n",
    " return (np.mean(mean_arr),np.std((mean_arr), ddof=1))\n",
    " \n",
    "s_mean_height, s_sd_height = get_mean(\"Short\", \"Height(in m)\")\n",
    "m_mean_height, m_sd_height = get_mean(\"Medium\", \"Height(in m)\")\n",
    "t_mean_height, t_sd_height = get_mean(\"Tall\", \"Height(in m)\")\n"
   ]
  },
  {
   "cell_type": "code",
   "execution_count": 7,
   "metadata": {},
   "outputs": [],
   "source": [
    "#Creating a Function.\n",
    "def normal_dist(x , mean , sd):\n",
    "# prob_density = (np.exp(-0.5*((x-mean)/sd)**2))/(sd*np.sqrt(2*np.pi))\n",
    " prob_density = 1/(sd * np.sqrt(2 * np.pi)) * np.exp( - (x - mean)**2 / (2 * sd**2) )\n",
    "# print(prob_density)\n",
    " return prob_density"
   ]
  },
  {
   "cell_type": "code",
   "execution_count": 8,
   "metadata": {},
   "outputs": [],
   "source": [
    "def bayes(name, gender, h):\n",
    "    if gender==\"M\":\n",
    "        p_x_short = p_short*p_m_short*normal_dist(h,s_mean_height,s_sd_height)\n",
    "        p_x_medium = p_medium*p_m_medium*normal_dist(h,m_mean_height,m_sd_height)\n",
    "        p_x_tall = p_tall*p_m_tall*normal_dist(h,t_mean_height,t_sd_height)\n",
    "        output = max(p_x_short, p_x_medium, p_x_tall)\n",
    "        if output == p_x_short:\n",
    "            print(name,\" is short\")\n",
    "        elif output == p_x_medium:\n",
    "            print(name,\" is medium\")\n",
    "        elif output == p_x_tall:\n",
    "            print(name,\" is tall\")  \n",
    "    elif gender==\"F\":\n",
    "        p_x_short = p_short*p_f_short*normal_dist(h,s_mean_height,s_sd_height)\n",
    "        p_x_medium = p_medium*p_f_medium*normal_dist(h,m_mean_height,m_sd_height)\n",
    "        p_x_tall = p_tall*p_f_tall*normal_dist(h,t_mean_height,t_sd_height)\n",
    "        output = max(p_x_short, p_x_medium, p_x_tall)\n",
    "        if output == p_x_short:\n",
    "            print(name,\" is short\")\n",
    "        elif output == p_x_medium:\n",
    "            print(name,\" is medium\")\n",
    "        elif output == p_x_tall:\n",
    "            print(name,\" is tall\")\n"
   ]
  },
  {
   "cell_type": "code",
   "execution_count": 9,
   "metadata": {},
   "outputs": [
    {
     "name": "stdout",
     "output_type": "stream",
     "text": [
      "Param  is tall\n"
     ]
    }
   ],
   "source": [
    "Param = bayes(\"Param\",\"M\",1.97)"
   ]
  },
  {
   "cell_type": "code",
   "execution_count": 10,
   "metadata": {},
   "outputs": [
    {
     "name": "stdout",
     "output_type": "stream",
     "text": [
      "Divya  is short\n"
     ]
    }
   ],
   "source": [
    "Divya = bayes(\"Divya\",\"F\",1.72)"
   ]
  }
 ],
 "metadata": {
  "interpreter": {
   "hash": "bd067e06c2a25771e41856d2b115064caba8b5e89f9df08a45a66928b34137a1"
  },
  "kernelspec": {
   "display_name": "Python 3.10.0 64-bit",
   "language": "python",
   "name": "python3"
  },
  "language_info": {
   "codemirror_mode": {
    "name": "ipython",
    "version": 3
   },
   "file_extension": ".py",
   "mimetype": "text/x-python",
   "name": "python",
   "nbconvert_exporter": "python",
   "pygments_lexer": "ipython3",
   "version": "3.10.0"
  },
  "orig_nbformat": 4
 },
 "nbformat": 4,
 "nbformat_minor": 2
}
